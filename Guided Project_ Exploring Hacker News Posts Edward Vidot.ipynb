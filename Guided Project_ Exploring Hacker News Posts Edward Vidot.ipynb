{
 "cells": [
  {
   "cell_type": "markdown",
   "metadata": {
    "collapsed": true
   },
   "source": [
    "# Exploring Y-Combinator Hacker News Posts"
   ]
  },
  {
   "cell_type": "markdown",
   "metadata": {},
   "source": [
    "## Introduction\n",
    "\n",
    "Hacker News was created by the startup incubator Y Combinator. Similar to reddit, user-submitted stories known as posts are voted and commented upon. In technology and startup circles, Hacker News is extremely popular and top posts can generate hundreds of thousands of visitors as a result.\n",
    "\n",
    "\n",
    "## Data Set Description\n",
    "\n",
    "The columns from the original data set are as follows:\n",
    "\n",
    "- id: The unique identifier from Hacker News for the post\n",
    "- title: The title of the post\n",
    "- url: The URL that the posts links to, if the post has a URL\n",
    "- num_points: The number of points the post has acquired, calculated as the total number of upvotes minus the total number of downvotes\n",
    "- num_comments: The number of comments that were made on the post\n",
    "- author: The username of the person who submitted the post\n",
    "- created_at: The date and time at which the post was submitted\n",
    "\n",
    "## Methodology\n",
    "\n",
    "For this project, the posts that we're interested in have titles that begin with either \"Ask HN\" or \"Show HN\". \"Ask HN\" style posts ask the Hacker News community specific questions in a format such as:\n",
    "\n",
    "Ask HN: Any recent changes to CSS that broke mobile?\n",
    "\n",
    "Similarly, \"Show HN\" style posts are used to show the Hacker News community a project, product or something interesting. These posts use the format:\n",
    "\n",
    "Show HN: Check out this website I made\n",
    "\n",
    "What we would like to achieve as part of this project is to determine the following:\n",
    "\n",
    "- Do \"Ask HN\" or \"Show HN\" posts receive more comments on average?\n",
    "- Do posts created at a certain time receive more comments on average?"
   ]
  },
  {
   "cell_type": "markdown",
   "metadata": {
    "collapsed": true
   },
   "source": [
    "## File Import\n",
    "\n",
    "To begin, we import the csv file that you can find [here](https://www.kaggle.com/hacker-news/hacker-news-posts/download)."
   ]
  },
  {
   "cell_type": "code",
   "execution_count": 1,
   "metadata": {
    "collapsed": false
   },
   "outputs": [],
   "source": [
    "opened_file = open('hacker_news.csv')\n",
    "from csv import reader\n",
    "read_file = reader(opened_file)\n",
    "hn = list(read_file)\n",
    "hn_header = hn[0]\n",
    "hn = hn[1:]"
   ]
  },
  {
   "cell_type": "code",
   "execution_count": 2,
   "metadata": {
    "collapsed": false
   },
   "outputs": [
    {
     "name": "stdout",
     "output_type": "stream",
     "text": [
      "['12224879', 'Interactive Dynamic Video', 'http://www.interactivedynamicvideo.com/', '386', '52', 'ne0phyte', '8/4/2016 11:52'] \n",
      "\n",
      "['10975351', 'How to Use Open Source and Shut the Fuck Up at the Same Time', 'http://hueniverse.com/2016/01/26/how-to-use-open-source-and-shut-the-fuck-up-at-the-same-time/', '39', '10', 'josep2', '1/26/2016 19:30'] \n",
      "\n",
      "['11964716', \"Florida DJs May Face Felony for April Fools' Water Joke\", 'http://www.thewire.com/entertainment/2013/04/florida-djs-april-fools-water-joke/63798/', '2', '1', 'vezycash', '6/23/2016 22:20'] \n",
      "\n",
      "['11919867', 'Technology ventures: From Idea to Enterprise', 'https://www.amazon.com/Technology-Ventures-Enterprise-Thomas-Byers/dp/0073523429', '3', '1', 'hswarna', '6/17/2016 0:01'] \n",
      "\n",
      "['10301696', 'Note by Note: The Making of Steinway L1037 (2007)', 'http://www.nytimes.com/2007/11/07/movies/07stein.html?_r=0', '8', '2', 'walterbell', '9/30/2015 4:12'] \n",
      "\n"
     ]
    }
   ],
   "source": [
    "for rows in hn[:5]:\n",
    "    print(rows,\"\\n\")"
   ]
  },
  {
   "cell_type": "markdown",
   "metadata": {},
   "source": [
    "## Methodology\n",
    "\n",
    "For this project, we're only interested in posts whose titles begin with \"Ask HN\" or \"Show HN\". We need to filter the data set by creating new lists with data just from these posts.\n",
    "\n",
    "To filter the data, we will use the string method \"startswith\". This method will pass through an object and will return either True or False. As this method is case sensitive, we will use the \"lower\" method to return a lowercase version of the starting string so that all strings are the same. "
   ]
  },
  {
   "cell_type": "code",
   "execution_count": 3,
   "metadata": {
    "collapsed": false
   },
   "outputs": [],
   "source": [
    "'''\n",
    "We begin by creating three empty lists\n",
    "'''\n",
    "\n",
    "ask_posts = []\n",
    "show_posts = []\n",
    "other_posts = []\n",
    "\n",
    "'''\n",
    "We loop through each row in the hackernews data set and we assign the title\n",
    "in each row to a variable named title and convert the title to lowercase. \n",
    "\n",
    "If the title begins with \"ask hn\" we add the row to the ask_posts list and if the\n",
    "title begins with \"show hn\" we add that row to the show_posts list. Otherwise it\n",
    "will go to the other_posts list.\n",
    "'''\n",
    "\n",
    "for rows in hn:\n",
    "    title = rows[1]\n",
    "    title = title.lower()\n",
    "    \n",
    "    if title.startswith('ask hn') == True:\n",
    "        ask_posts.append(rows)\n",
    "    \n",
    "    elif title.startswith('show hn') == True:\n",
    "        show_posts.append(rows)\n",
    "    \n",
    "    else:\n",
    "        other_posts.append(rows)\n",
    "    "
   ]
  },
  {
   "cell_type": "code",
   "execution_count": 4,
   "metadata": {
    "collapsed": false
   },
   "outputs": [
    {
     "name": "stdout",
     "output_type": "stream",
     "text": [
      "1744\n",
      "1162\n",
      "17194\n"
     ]
    }
   ],
   "source": [
    "print(len(ask_posts))\n",
    "print(len(show_posts))\n",
    "print(len(other_posts))"
   ]
  },
  {
   "cell_type": "markdown",
   "metadata": {
    "collapsed": true
   },
   "source": [
    "Now that we have separated the posts, we can see that there are 1,744 ask hn posts, 1,162 show hn posts and 17,194 other type posts out of our sample set.\n",
    "\n",
    "We will now determine if ask posts or show posts receive more comments on average."
   ]
  },
  {
   "cell_type": "code",
   "execution_count": 5,
   "metadata": {
    "collapsed": false
   },
   "outputs": [],
   "source": [
    "'''\n",
    "We create a counter called total_ask_comments and set it at 0. For each row in \n",
    "the ask_posts list, we add the number of comments to the counter.\n",
    "'''\n",
    "\n",
    "total_ask_comments = 0\n",
    "\n",
    "for rows in ask_posts:\n",
    "    num_comments = rows[4]\n",
    "    num_comments = int(num_comments)\n",
    "    total_ask_comments += num_comments"
   ]
  },
  {
   "cell_type": "code",
   "execution_count": 6,
   "metadata": {
    "collapsed": false
   },
   "outputs": [
    {
     "name": "stdout",
     "output_type": "stream",
     "text": [
      "24483\n"
     ]
    }
   ],
   "source": [
    "print(total_ask_comments)"
   ]
  },
  {
   "cell_type": "code",
   "execution_count": 7,
   "metadata": {
    "collapsed": false
   },
   "outputs": [
    {
     "name": "stdout",
     "output_type": "stream",
     "text": [
      "14.038417431192661\n"
     ]
    }
   ],
   "source": [
    "avg_ask_comments = total_ask_comments / 1744\n",
    "print(avg_ask_comments)"
   ]
  },
  {
   "cell_type": "code",
   "execution_count": 8,
   "metadata": {
    "collapsed": false
   },
   "outputs": [
    {
     "name": "stdout",
     "output_type": "stream",
     "text": [
      "11988\n"
     ]
    }
   ],
   "source": [
    "total_show_comments = 0\n",
    "\n",
    "for rows in show_posts:\n",
    "    num_comments = rows[4]\n",
    "    num_comments = int(num_comments)\n",
    "    total_show_comments += num_comments\n",
    "\n",
    "print(total_show_comments)"
   ]
  },
  {
   "cell_type": "code",
   "execution_count": 9,
   "metadata": {
    "collapsed": false
   },
   "outputs": [
    {
     "name": "stdout",
     "output_type": "stream",
     "text": [
      "10.31669535283993\n"
     ]
    }
   ],
   "source": [
    "avg_show_comments = total_show_comments / 1162\n",
    "print(avg_show_comments)"
   ]
  },
  {
   "cell_type": "markdown",
   "metadata": {},
   "source": [
    "As we can see, ask hn style posts receive almost 4 comments more per post on average than show comments. This may be because people are more willing to give advice than they are to provide feedback proactively. "
   ]
  },
  {
   "cell_type": "markdown",
   "metadata": {},
   "source": [
    "## Are posts created at a certain time more likely to attract comments?\n",
    "\n",
    "Now that we have determined that \"ask hn\" style posts attract more comments, we want to investigate whether posting at certain times will attract more comments. \n",
    "\n",
    "To do this we will calculate the number of posts created in each hour of the day and the number of comments they receive. \n",
    "\n",
    "We will then calculate the average number of comments the posts receive by hour created."
   ]
  },
  {
   "cell_type": "code",
   "execution_count": 19,
   "metadata": {
    "collapsed": false
   },
   "outputs": [],
   "source": [
    "'''\n",
    "We need to import the datetime module and create an empty list. \n",
    "\n",
    "For each row in the ask_posts list, we take out the created at time and the\n",
    "number of comments and create a pair to put into the new list.\n",
    "\n",
    "'''\n",
    "\n",
    "import datetime as dt\n",
    "\n",
    "result_list = []\n",
    "\n",
    "for rows in ask_posts:\n",
    "    created_at = rows[6]\n",
    "    num_comments = rows[4]\n",
    "    \n",
    "    \n",
    "    num_comments = int(num_comments)\n",
    "    \n",
    "    time_comment_pair = [created_at, num_comments]\n",
    "    \n",
    "    result_list.append(time_comment_pair)\n"
   ]
  },
  {
   "cell_type": "code",
   "execution_count": 23,
   "metadata": {
    "collapsed": false
   },
   "outputs": [
    {
     "data": {
      "text/plain": [
       "[['8/16/2016 9:55', 6], ['11/22/2015 13:43', 29], ['5/2/2016 10:14', 1]]"
      ]
     },
     "execution_count": 23,
     "metadata": {},
     "output_type": "execute_result"
    }
   ],
   "source": [
    "result_list[:3]"
   ]
  },
  {
   "cell_type": "code",
   "execution_count": 29,
   "metadata": {
    "collapsed": false
   },
   "outputs": [],
   "source": [
    "'''\n",
    "We now create two empty dictionaries.\n",
    "\n",
    "We need to create a datetime object from the created_at data so we use the\n",
    "datetime.strptime() method to parse the date and create a datetime object.\n",
    "\n",
    "We then use the datetime.strftime() method to select just the hour from the \n",
    "datetime object. \n",
    "\n",
    "From there if the hour selected is not in the counts_by_hour dictionary, we \n",
    "create a new instance and set it equal to 1. We do the same for comment_by_hour \n",
    "except we set the default value to the number of comments left.\n",
    "\n",
    "If the hour is in the counts_by_hour dictionary, we increase the count by 1 and \n",
    "also add the number of comments to the comment_by_hour figure.\n",
    "\n",
    "'''\n",
    "\n",
    "\n",
    "\n",
    "counts_by_hour = {}\n",
    "comment_by_hour = {}\n",
    "\n",
    "for rows in result_list:\n",
    "    dt_x = rows[0]\n",
    "    dt_x = dt.datetime.strptime(dt_x, \"%m/%d/%Y %H:%M\")\n",
    "    \n",
    "    dt_hour = dt_x.strftime(\"%H\")\n",
    "    \n",
    "    if dt_hour not in counts_by_hour:\n",
    "        counts_by_hour[dt_hour] = 1\n",
    "        comment_by_hour[dt_hour] = rows[1]\n",
    "    elif dt_hour in counts_by_hour:\n",
    "        counts_by_hour[dt_hour] += 1\n",
    "        comment_by_hour[dt_hour] += rows[1]"
   ]
  },
  {
   "cell_type": "code",
   "execution_count": 30,
   "metadata": {
    "collapsed": false
   },
   "outputs": [
    {
     "name": "stdout",
     "output_type": "stream",
     "text": [
      "{'13': 85, '16': 108, '14': 107, '07': 34, '00': 55, '17': 100, '02': 58, '03': 54, '05': 46, '15': 116, '04': 47, '11': 58, '21': 109, '08': 48, '09': 45, '18': 109, '12': 73, '10': 59, '06': 44, '20': 80, '19': 110, '01': 60, '22': 71, '23': 68}\n"
     ]
    }
   ],
   "source": [
    "print(counts_by_hour)"
   ]
  },
  {
   "cell_type": "code",
   "execution_count": 35,
   "metadata": {
    "collapsed": false
   },
   "outputs": [
    {
     "name": "stdout",
     "output_type": "stream",
     "text": [
      "{'13': 1253, '16': 1814, '14': 1416, '07': 267, '00': 447, '17': 1146, '02': 1381, '03': 421, '05': 464, '15': 4477, '04': 337, '11': 641, '21': 1745, '08': 492, '09': 251, '18': 1439, '12': 687, '10': 793, '06': 397, '20': 1722, '19': 1188, '01': 683, '22': 479, '23': 543}\n"
     ]
    }
   ],
   "source": [
    "print(comment_by_hour)"
   ]
  },
  {
   "cell_type": "markdown",
   "metadata": {},
   "source": [
    "Now that we have our dictionaries, we can calculate the average number of comments per hour."
   ]
  },
  {
   "cell_type": "code",
   "execution_count": 33,
   "metadata": {
    "collapsed": true
   },
   "outputs": [],
   "source": [
    "avg_by_hour = []\n",
    "\n",
    "for item in counts_by_hour:\n",
    "    avg_by_hour.append([item,comment_by_hour[item] / counts_by_hour[item]])"
   ]
  },
  {
   "cell_type": "code",
   "execution_count": 43,
   "metadata": {
    "collapsed": false
   },
   "outputs": [
    {
     "name": "stdout",
     "output_type": "stream",
     "text": [
      "[['13', 14.741176470588234], ['16', 16.796296296296298], ['14', 13.233644859813085], ['07', 7.852941176470588], ['00', 8.127272727272727], ['17', 11.46], ['02', 23.810344827586206], ['03', 7.796296296296297], ['05', 10.08695652173913], ['15', 38.5948275862069], ['04', 7.170212765957447], ['11', 11.051724137931034], ['21', 16.009174311926607], ['08', 10.25], ['09', 5.5777777777777775], ['18', 13.20183486238532], ['12', 9.41095890410959], ['10', 13.440677966101696], ['06', 9.022727272727273], ['20', 21.525], ['19', 10.8], ['01', 11.383333333333333], ['22', 6.746478873239437], ['23', 7.985294117647059]]\n"
     ]
    }
   ],
   "source": [
    "print(avg_by_hour)"
   ]
  },
  {
   "cell_type": "markdown",
   "metadata": {},
   "source": [
    "While we have the results we're after, we just need to make this a bit more readable."
   ]
  },
  {
   "cell_type": "code",
   "execution_count": 42,
   "metadata": {
    "collapsed": false
   },
   "outputs": [
    {
     "name": "stdout",
     "output_type": "stream",
     "text": [
      "[[14.741176470588234, '13'], [16.796296296296298, '16'], [13.233644859813085, '14'], [7.852941176470588, '07'], [8.127272727272727, '00'], [11.46, '17'], [23.810344827586206, '02'], [7.796296296296297, '03'], [10.08695652173913, '05'], [38.5948275862069, '15'], [7.170212765957447, '04'], [11.051724137931034, '11'], [16.009174311926607, '21'], [10.25, '08'], [5.5777777777777775, '09'], [13.20183486238532, '18'], [9.41095890410959, '12'], [13.440677966101696, '10'], [9.022727272727273, '06'], [21.525, '20'], [10.8, '19'], [11.383333333333333, '01'], [6.746478873239437, '22'], [7.985294117647059, '23']]\n"
     ]
    }
   ],
   "source": [
    "swap_avg_by_hour = []\n",
    "\n",
    "for rows in avg_by_hour:\n",
    "    first_element = rows[0]\n",
    "    second_element = rows[1]\n",
    "    \n",
    "    swap_avg_by_hour.append([second_element,first_element])\n",
    "\n",
    "print(swap_avg_by_hour)"
   ]
  },
  {
   "cell_type": "code",
   "execution_count": 40,
   "metadata": {
    "collapsed": false
   },
   "outputs": [],
   "source": [
    "sorted_swap = sorted(swap_avg_by_hour,reverse=True)"
   ]
  },
  {
   "cell_type": "code",
   "execution_count": 41,
   "metadata": {
    "collapsed": false
   },
   "outputs": [
    {
     "name": "stdout",
     "output_type": "stream",
     "text": [
      "15:00: 38.59 average comments per post\n",
      "02:00: 23.81 average comments per post\n",
      "20:00: 21.52 average comments per post\n",
      "16:00: 16.80 average comments per post\n",
      "21:00: 16.01 average comments per post\n",
      "13:00: 14.74 average comments per post\n",
      "10:00: 13.44 average comments per post\n",
      "14:00: 13.23 average comments per post\n",
      "18:00: 13.20 average comments per post\n",
      "17:00: 11.46 average comments per post\n",
      "01:00: 11.38 average comments per post\n",
      "11:00: 11.05 average comments per post\n",
      "19:00: 10.80 average comments per post\n",
      "08:00: 10.25 average comments per post\n",
      "05:00: 10.09 average comments per post\n",
      "12:00: 9.41 average comments per post\n",
      "06:00: 9.02 average comments per post\n",
      "00:00: 8.13 average comments per post\n",
      "23:00: 7.99 average comments per post\n",
      "07:00: 7.85 average comments per post\n",
      "03:00: 7.80 average comments per post\n",
      "04:00: 7.17 average comments per post\n",
      "22:00: 6.75 average comments per post\n",
      "09:00: 5.58 average comments per post\n"
     ]
    }
   ],
   "source": [
    "for rows in sorted_swap:\n",
    "    dt_x = rows[1]\n",
    "    dt_x = dt.datetime.strptime(dt_x,\"%H\")\n",
    "    \n",
    "    dt_y = rows[0]\n",
    "    \n",
    "    dt_hour = dt_x.strftime(\"%H:%M\")\n",
    "    \n",
    "    print(\"{0}: {1:.2f} average comments per post\".format(dt_hour,dt_y))"
   ]
  },
  {
   "cell_type": "markdown",
   "metadata": {},
   "source": [
    "We can see from the above that the best times to post are 3pm US Eastern standard time, 2am US EST and 8pm US EST for ask_hn style posts. The top ranked time of 3pm EST is roughly peak time to catch people on their lunchbreak in LA where there is a hub of tech and startup activity as well as 8pm London time where people would typically be at home.\n",
    "\n",
    "We would typically expect this to be the best time to post given that San Francisco is the hub of all things tech-related."
   ]
  },
  {
   "cell_type": "code",
   "execution_count": null,
   "metadata": {
    "collapsed": true
   },
   "outputs": [],
   "source": []
  }
 ],
 "metadata": {
  "kernelspec": {
   "display_name": "Python 3",
   "language": "python",
   "name": "python3"
  },
  "language_info": {
   "codemirror_mode": {
    "name": "ipython",
    "version": 3
   },
   "file_extension": ".py",
   "mimetype": "text/x-python",
   "name": "python",
   "nbconvert_exporter": "python",
   "pygments_lexer": "ipython3",
   "version": "3.4.3"
  }
 },
 "nbformat": 4,
 "nbformat_minor": 2
}
